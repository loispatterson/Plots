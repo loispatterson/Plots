{
 "cells": [
  {
   "cell_type": "code",
   "execution_count": 1,
   "id": "a01017fa-0093-465b-ac53-6756b4a8d01d",
   "metadata": {},
   "outputs": [],
   "source": [
    "# This generates an image with random overlaping rectangles in random colours.\n",
    "\n",
    "import random\n",
    "import uuid\n",
    "from PIL import Image, ImageDraw\n",
    "\n",
    "# Random file name\n",
    "run_id = uuid.uuid1()\n",
    "\n",
    "# Create image with random background colour (no transparency background)\n",
    "bg_r = random.randint(0, 255)\n",
    "bg_g = random.randint(0, 255)\n",
    "bg_b = random.randint(0, 255)\n",
    "image = Image.new('RGBA', (2000, 2000), (bg_r, bg_g, bg_b, 255))\n",
    "\n",
    "width, height = image.size\n",
    "rectangle_width, rectangle_height = 100, 100\n",
    "\n",
    "# Random no. rectangles 20 to 350\n",
    "number_of_rectangles = random.randint(20, 350)\n",
    "#print(number_of_rectangles)\n",
    "\n",
    "draw_image = ImageDraw.Draw(image)\n",
    "\n",
    "# Loop to draw rectangles\n",
    "for i in range(number_of_rectangles):\n",
    "    # Random size\n",
    "    rectangle_width = random.randint(50, 150)\n",
    "    rectangle_height = random.randint(50, 150)\n",
    "\n",
    "    # Random position of rectangle\n",
    "    rectangle_x = random.randint(0, width - rectangle_width)\n",
    "    rectangle_y = random.randint(0, height - rectangle_height)\n",
    "\n",
    "    # Random RGBA colour random transparency 50% = 128\n",
    "    r = random.randint(0, 255)\n",
    "    g = random.randint(0, 255)\n",
    "    b = random.randint(0, 255)\n",
    "    a = random.randint(80, 180) \n",
    " \n",
    "    rectangle_shape = [\n",
    "        (rectangle_x, rectangle_y),\n",
    "        (rectangle_x + rectangle_width, rectangle_y + rectangle_height)\n",
    "    ]\n",
    "    \n",
    "    # Draw rectangle on its own temporary transparent image then make a copy - this is so the alpha plots correctly in PIL\n",
    "    rect_img = Image.new(\"RGBA\", image.size, (bg_r, bg_g, bg_b, 0))\n",
    "    rect_draw = ImageDraw.Draw(rect_img)\n",
    "    rect_draw.rectangle(rectangle_shape, fill=(r, g, b, a))\n",
    "    \n",
    "    # Blend into the main image\n",
    "    image = Image.alpha_composite(image, rect_img)\n",
    "\n",
    "# Save and show result\n",
    "image.show()\n",
    "image.save(f\"rectangles{run_id}.png\")"
   ]
  },
  {
   "cell_type": "code",
   "execution_count": null,
   "id": "22b6b6d1-f8c3-498d-8035-9f543a772a0a",
   "metadata": {},
   "outputs": [],
   "source": []
  }
 ],
 "metadata": {
  "kernelspec": {
   "display_name": "Python 3 (ipykernel)",
   "language": "python",
   "name": "python3"
  },
  "language_info": {
   "codemirror_mode": {
    "name": "ipython",
    "version": 3
   },
   "file_extension": ".py",
   "mimetype": "text/x-python",
   "name": "python",
   "nbconvert_exporter": "python",
   "pygments_lexer": "ipython3",
   "version": "3.9.6"
  }
 },
 "nbformat": 4,
 "nbformat_minor": 5
}
